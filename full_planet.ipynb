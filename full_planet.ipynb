{
  "nbformat": 4,
  "nbformat_minor": 0,
  "metadata": {
    "colab": {
      "name": "full-planet.ipynb",
      "provenance": [],
      "collapsed_sections": [],
      "authorship_tag": "ABX9TyOkgtVWB8+ZnUXRQomKyRhd",
      "include_colab_link": true
    },
    "kernelspec": {
      "name": "python3",
      "display_name": "Python 3"
    },
    "accelerator": "GPU"
  },
  "cells": [
    {
      "cell_type": "markdown",
      "metadata": {
        "id": "view-in-github",
        "colab_type": "text"
      },
      "source": [
        "<a href=\"https://colab.research.google.com/github/nickandmartinlearnstuff/practical-deep-learning-fast-ai/blob/main/full_planet.ipynb\" target=\"_parent\"><img src=\"https://colab.research.google.com/assets/colab-badge.svg\" alt=\"Open In Colab\"/></a>"
      ]
    },
    {
      "cell_type": "code",
      "metadata": {
        "id": "Vit5w74ftg0L"
      },
      "source": [
        "!pip install -Uqq fastbook\n",
        "from fastbook import *\n",
        "setup_book()"
      ],
      "execution_count": 2,
      "outputs": []
    },
    {
      "cell_type": "markdown",
      "metadata": {
        "id": "HQU6hLodJx6P"
      },
      "source": [
        "<div style=\"display:flex;\">\n",
        "  <h1>Nick And Martin Try To Understand The Amazon</h1>\n",
        "<img src=\"https://storage.googleapis.com/kaggle-competitions/kaggle/6322/media/planet.png\" width=100 alt=\"Satellite image of agriculture, clear\">\n",
        "</div>\n",
        "\n",
        "Machine Learning exercise following the Kaggle competition [Planet: Understanding the Amazon from Space](https://www.kaggle.com/c/planet-understanding-the-amazon-from-space)"
      ]
    },
    {
      "cell_type": "code",
      "metadata": {
        "id": "yaE9qEuBbTIY"
      },
      "source": [
        "planet = Path() /  'gdrive' / 'MyDrive' / 'data' / 'planet'"
      ],
      "execution_count": 3,
      "outputs": []
    },
    {
      "cell_type": "code",
      "metadata": {
        "colab": {
          "base_uri": "https://localhost:8080/"
        },
        "id": "560NlB-LcTgV",
        "outputId": "ae0d8946-bbbd-4781-cf83-b6f6c57079c0"
      },
      "source": [
        "planet"
      ],
      "execution_count": 4,
      "outputs": [
        {
          "output_type": "execute_result",
          "data": {
            "text/plain": [
              "Path('gdrive/MyDrive/data/planet')"
            ]
          },
          "metadata": {
            "tags": []
          },
          "execution_count": 4
        }
      ]
    },
    {
      "cell_type": "code",
      "metadata": {
        "id": "9ahK8R5Ge0cr"
      },
      "source": [
        "df = pd.read_csv(planet / 'train_v2.csv')"
      ],
      "execution_count": 5,
      "outputs": []
    },
    {
      "cell_type": "code",
      "metadata": {
        "colab": {
          "base_uri": "https://localhost:8080/",
          "height": 172
        },
        "id": "YF_6-tVcfUlw",
        "outputId": "46ef79a5-b305-47cb-a163-7f2f743cc675"
      },
      "source": [
        "df.describe()"
      ],
      "execution_count": 6,
      "outputs": [
        {
          "output_type": "execute_result",
          "data": {
            "text/html": [
              "<div>\n",
              "<style scoped>\n",
              "    .dataframe tbody tr th:only-of-type {\n",
              "        vertical-align: middle;\n",
              "    }\n",
              "\n",
              "    .dataframe tbody tr th {\n",
              "        vertical-align: top;\n",
              "    }\n",
              "\n",
              "    .dataframe thead th {\n",
              "        text-align: right;\n",
              "    }\n",
              "</style>\n",
              "<table border=\"1\" class=\"dataframe\">\n",
              "  <thead>\n",
              "    <tr style=\"text-align: right;\">\n",
              "      <th></th>\n",
              "      <th>image_name</th>\n",
              "      <th>tags</th>\n",
              "    </tr>\n",
              "  </thead>\n",
              "  <tbody>\n",
              "    <tr>\n",
              "      <th>count</th>\n",
              "      <td>40479</td>\n",
              "      <td>40479</td>\n",
              "    </tr>\n",
              "    <tr>\n",
              "      <th>unique</th>\n",
              "      <td>40479</td>\n",
              "      <td>449</td>\n",
              "    </tr>\n",
              "    <tr>\n",
              "      <th>top</th>\n",
              "      <td>train_22676</td>\n",
              "      <td>clear primary</td>\n",
              "    </tr>\n",
              "    <tr>\n",
              "      <th>freq</th>\n",
              "      <td>1</td>\n",
              "      <td>13636</td>\n",
              "    </tr>\n",
              "  </tbody>\n",
              "</table>\n",
              "</div>"
            ],
            "text/plain": [
              "         image_name           tags\n",
              "count         40479          40479\n",
              "unique        40479            449\n",
              "top     train_22676  clear primary\n",
              "freq              1          13636"
            ]
          },
          "metadata": {
            "tags": []
          },
          "execution_count": 6
        }
      ]
    },
    {
      "cell_type": "code",
      "metadata": {
        "colab": {
          "base_uri": "https://localhost:8080/",
          "height": 203
        },
        "id": "HyYXccb9fWTL",
        "outputId": "b8259e2b-5368-4a88-8717-530b6fdf1b71"
      },
      "source": [
        "df.head()"
      ],
      "execution_count": 7,
      "outputs": [
        {
          "output_type": "execute_result",
          "data": {
            "text/html": [
              "<div>\n",
              "<style scoped>\n",
              "    .dataframe tbody tr th:only-of-type {\n",
              "        vertical-align: middle;\n",
              "    }\n",
              "\n",
              "    .dataframe tbody tr th {\n",
              "        vertical-align: top;\n",
              "    }\n",
              "\n",
              "    .dataframe thead th {\n",
              "        text-align: right;\n",
              "    }\n",
              "</style>\n",
              "<table border=\"1\" class=\"dataframe\">\n",
              "  <thead>\n",
              "    <tr style=\"text-align: right;\">\n",
              "      <th></th>\n",
              "      <th>image_name</th>\n",
              "      <th>tags</th>\n",
              "    </tr>\n",
              "  </thead>\n",
              "  <tbody>\n",
              "    <tr>\n",
              "      <th>0</th>\n",
              "      <td>train_0</td>\n",
              "      <td>haze primary</td>\n",
              "    </tr>\n",
              "    <tr>\n",
              "      <th>1</th>\n",
              "      <td>train_1</td>\n",
              "      <td>agriculture clear primary water</td>\n",
              "    </tr>\n",
              "    <tr>\n",
              "      <th>2</th>\n",
              "      <td>train_2</td>\n",
              "      <td>clear primary</td>\n",
              "    </tr>\n",
              "    <tr>\n",
              "      <th>3</th>\n",
              "      <td>train_3</td>\n",
              "      <td>clear primary</td>\n",
              "    </tr>\n",
              "    <tr>\n",
              "      <th>4</th>\n",
              "      <td>train_4</td>\n",
              "      <td>agriculture clear habitation primary road</td>\n",
              "    </tr>\n",
              "  </tbody>\n",
              "</table>\n",
              "</div>"
            ],
            "text/plain": [
              "  image_name                                       tags\n",
              "0    train_0                               haze primary\n",
              "1    train_1            agriculture clear primary water\n",
              "2    train_2                              clear primary\n",
              "3    train_3                              clear primary\n",
              "4    train_4  agriculture clear habitation primary road"
            ]
          },
          "metadata": {
            "tags": []
          },
          "execution_count": 7
        }
      ]
    },
    {
      "cell_type": "markdown",
      "metadata": {
        "id": "Ou0ehoo7Lyd2"
      },
      "source": [
        "Let's define the functions to gather the data (`get_x()`) and the labels (`get_y()`)."
      ]
    },
    {
      "cell_type": "code",
      "metadata": {
        "colab": {
          "base_uri": "https://localhost:8080/"
        },
        "id": "N4On0U0nbLoE",
        "outputId": "31432797-790e-4b9a-cf49-aad85f251847"
      },
      "source": [
        "planet"
      ],
      "execution_count": 8,
      "outputs": [
        {
          "output_type": "execute_result",
          "data": {
            "text/plain": [
              "Path('gdrive/MyDrive/data/planet')"
            ]
          },
          "metadata": {
            "tags": []
          },
          "execution_count": 8
        }
      ]
    },
    {
      "cell_type": "markdown",
      "metadata": {
        "id": "xemrKFDxgx07"
      },
      "source": [
        "For some reason, we have a double-folder structure `train-jpg/train-jpg`, so we're adding this for now."
      ]
    },
    {
      "cell_type": "code",
      "metadata": {
        "id": "k9RRqHCDfYAV"
      },
      "source": [
        "def get_x(row): \n",
        "  return planet / 'train-jpg' / 'train-jpg' / (row['image_name'] + '.jpg')\n",
        "\n",
        "def get_y(row): \n",
        "  return row['tags'].split()"
      ],
      "execution_count": 11,
      "outputs": []
    },
    {
      "cell_type": "markdown",
      "metadata": {
        "id": "vrqLBY-NhW-a"
      },
      "source": [
        "For some reason, there are way fewer images in the folder we untared than there are entries in the CSV file, so we needed to remove the rows from the DataFrame that refer to files we don't have."
      ]
    },
    {
      "cell_type": "code",
      "metadata": {
        "id": "J9v6WJZjdnnZ"
      },
      "source": [
        "all_file_names = (planet / 'train-jpg' / 'train-jpg').ls()"
      ],
      "execution_count": 38,
      "outputs": []
    },
    {
      "cell_type": "code",
      "metadata": {
        "colab": {
          "base_uri": "https://localhost:8080/"
        },
        "id": "fV8iIy4jeesW",
        "outputId": "d9e34657-8aa7-4d19-e9a0-4800705d3994"
      },
      "source": [
        "len(all_file_names)  # actual number of files we have"
      ],
      "execution_count": 23,
      "outputs": [
        {
          "output_type": "execute_result",
          "data": {
            "text/plain": [
              "11731"
            ]
          },
          "metadata": {
            "tags": []
          },
          "execution_count": 23
        }
      ]
    },
    {
      "cell_type": "code",
      "metadata": {
        "colab": {
          "base_uri": "https://localhost:8080/"
        },
        "id": "ZwjPumaYepIy",
        "outputId": "880c94b9-d33e-4608-a0cc-ba3d5970d4e9"
      },
      "source": [
        "len(df['image_name'])  # number of files in the CSV file"
      ],
      "execution_count": 26,
      "outputs": [
        {
          "output_type": "execute_result",
          "data": {
            "text/plain": [
              "40479"
            ]
          },
          "metadata": {
            "tags": []
          },
          "execution_count": 26
        }
      ]
    },
    {
      "cell_type": "markdown",
      "metadata": {
        "id": "G1cVWdBzh1la"
      },
      "source": [
        "One file that flagged and threw an error was `train_19831.jpg`, so we checked on whether this file exists:"
      ]
    },
    {
      "cell_type": "code",
      "metadata": {
        "colab": {
          "base_uri": "https://localhost:8080/"
        },
        "id": "4xhk-kmZd5s5",
        "outputId": "c4babba7-8ad1-4be6-9aaf-36d3488e134f"
      },
      "source": [
        "'train_19831' in [f.stem for f in all_file_names] # train_19831.jpg"
      ],
      "execution_count": 22,
      "outputs": [
        {
          "output_type": "execute_result",
          "data": {
            "text/plain": [
              "False"
            ]
          },
          "metadata": {
            "tags": []
          },
          "execution_count": 22
        }
      ]
    },
    {
      "cell_type": "markdown",
      "metadata": {
        "id": "NcXryzXni6Q1"
      },
      "source": [
        "We create a new pandas Series object from the `.stem` of the `all_file_names` list:"
      ]
    },
    {
      "cell_type": "code",
      "metadata": {
        "id": "Ii68fp08fEKi"
      },
      "source": [
        "fdf = pd.Series([f.stem for f in all_file_names])"
      ],
      "execution_count": 27,
      "outputs": []
    },
    {
      "cell_type": "code",
      "metadata": {
        "colab": {
          "base_uri": "https://localhost:8080/"
        },
        "id": "u_0axQkzfV69",
        "outputId": "783c7b92-71f8-4890-c93a-bf7951b40810"
      },
      "source": [
        "len(fdf)"
      ],
      "execution_count": 29,
      "outputs": [
        {
          "output_type": "execute_result",
          "data": {
            "text/plain": [
              "11731"
            ]
          },
          "metadata": {
            "tags": []
          },
          "execution_count": 29
        }
      ]
    },
    {
      "cell_type": "markdown",
      "metadata": {
        "id": "MAGSfOo7iSl_"
      },
      "source": [
        "We only keep the rows from the CSV dataframe that are also in the `all_file_names` list. We call the file DataFrame `cdf`."
      ]
    },
    {
      "cell_type": "code",
      "metadata": {
        "id": "26SbuARJfdS_"
      },
      "source": [
        "cdf = df[df.image_name.isin(fdf)]"
      ],
      "execution_count": 33,
      "outputs": []
    },
    {
      "cell_type": "code",
      "metadata": {
        "colab": {
          "base_uri": "https://localhost:8080/"
        },
        "id": "0jXME5fQgFaB",
        "outputId": "91b6cc87-7b7d-49e7-e8b4-08b54d9ff34c"
      },
      "source": [
        "len(cdf)  # clean dataframe with only entries that we actually have images for"
      ],
      "execution_count": 34,
      "outputs": [
        {
          "output_type": "execute_result",
          "data": {
            "text/plain": [
              "11731"
            ]
          },
          "metadata": {
            "tags": []
          },
          "execution_count": 34
        }
      ]
    },
    {
      "cell_type": "code",
      "metadata": {
        "colab": {
          "base_uri": "https://localhost:8080/"
        },
        "id": "dJr9liPVq744",
        "outputId": "b13cb945-a2d9-4eab-bbe6-bd8dba0ec447"
      },
      "source": [
        "dblock_resize = DataBlock(blocks=(ImageBlock, MultiCategoryBlock),\n",
        "                   get_x=get_x, \n",
        "                   get_y=get_y,\n",
        "                   item_tfms = RandomResizedCrop(128, min_scale=0.35))\n",
        "dsets_r = dblock_resize.datasets(cdf)\n",
        "dsets_r.train[0]"
      ],
      "execution_count": 35,
      "outputs": [
        {
          "output_type": "execute_result",
          "data": {
            "text/plain": [
              "(PILImage mode=RGB size=256x256,\n",
              " TensorMultiCategory([0., 0., 0., 0., 0., 1., 0., 0., 0., 0., 0., 0., 1., 0., 0., 0., 0.]))"
            ]
          },
          "metadata": {
            "tags": []
          },
          "execution_count": 35
        }
      ]
    },
    {
      "cell_type": "code",
      "metadata": {
        "id": "jh2UgygnsUHZ"
      },
      "source": [
        "dls_r = dblock_resize.dataloaders(cdf)\n",
        "learn_r = cnn_learner(dls_r, resnet50, metrics=partial(accuracy_multi, thresh=0.62))"
      ],
      "execution_count": 36,
      "outputs": []
    },
    {
      "cell_type": "code",
      "metadata": {
        "id": "absFOPTmtWnF",
        "colab": {
          "base_uri": "https://localhost:8080/",
          "height": 296
        },
        "outputId": "c033d3cb-fe87-4b69-ebe9-11f08d80dce4"
      },
      "source": [
        "learn_r.fine_tune(3, base_lr=3e-3, freeze_epochs=4)"
      ],
      "execution_count": 37,
      "outputs": [
        {
          "output_type": "display_data",
          "data": {
            "text/html": [
              "<table border=\"1\" class=\"dataframe\">\n",
              "  <thead>\n",
              "    <tr style=\"text-align: left;\">\n",
              "      <th>epoch</th>\n",
              "      <th>train_loss</th>\n",
              "      <th>valid_loss</th>\n",
              "      <th>accuracy_multi</th>\n",
              "      <th>time</th>\n",
              "    </tr>\n",
              "  </thead>\n",
              "  <tbody>\n",
              "    <tr>\n",
              "      <td>0</td>\n",
              "      <td>0.774559</td>\n",
              "      <td>0.540770</td>\n",
              "      <td>0.864676</td>\n",
              "      <td>42:06</td>\n",
              "    </tr>\n",
              "    <tr>\n",
              "      <td>1</td>\n",
              "      <td>0.334477</td>\n",
              "      <td>0.158989</td>\n",
              "      <td>0.945765</td>\n",
              "      <td>01:02</td>\n",
              "    </tr>\n",
              "    <tr>\n",
              "      <td>2</td>\n",
              "      <td>0.172036</td>\n",
              "      <td>0.137571</td>\n",
              "      <td>0.948799</td>\n",
              "      <td>01:00</td>\n",
              "    </tr>\n",
              "    <tr>\n",
              "      <td>3</td>\n",
              "      <td>0.151209</td>\n",
              "      <td>0.135166</td>\n",
              "      <td>0.950705</td>\n",
              "      <td>01:01</td>\n",
              "    </tr>\n",
              "  </tbody>\n",
              "</table>"
            ],
            "text/plain": [
              "<IPython.core.display.HTML object>"
            ]
          },
          "metadata": {
            "tags": []
          }
        },
        {
          "output_type": "display_data",
          "data": {
            "text/html": [
              "<table border=\"1\" class=\"dataframe\">\n",
              "  <thead>\n",
              "    <tr style=\"text-align: left;\">\n",
              "      <th>epoch</th>\n",
              "      <th>train_loss</th>\n",
              "      <th>valid_loss</th>\n",
              "      <th>accuracy_multi</th>\n",
              "      <th>time</th>\n",
              "    </tr>\n",
              "  </thead>\n",
              "  <tbody>\n",
              "    <tr>\n",
              "      <td>0</td>\n",
              "      <td>0.135143</td>\n",
              "      <td>0.126235</td>\n",
              "      <td>0.954140</td>\n",
              "      <td>01:04</td>\n",
              "    </tr>\n",
              "    <tr>\n",
              "      <td>1</td>\n",
              "      <td>0.122191</td>\n",
              "      <td>0.108129</td>\n",
              "      <td>0.958477</td>\n",
              "      <td>01:04</td>\n",
              "    </tr>\n",
              "    <tr>\n",
              "      <td>2</td>\n",
              "      <td>0.108236</td>\n",
              "      <td>0.104594</td>\n",
              "      <td>0.959380</td>\n",
              "      <td>01:12</td>\n",
              "    </tr>\n",
              "  </tbody>\n",
              "</table>"
            ],
            "text/plain": [
              "<IPython.core.display.HTML object>"
            ]
          },
          "metadata": {
            "tags": []
          }
        }
      ]
    },
    {
      "cell_type": "code",
      "metadata": {
        "id": "If7x06j7wIIO"
      },
      "source": [
        "learn_r.export(planet / 'full-learner.pkl')"
      ],
      "execution_count": 39,
      "outputs": []
    },
    {
      "cell_type": "code",
      "metadata": {
        "colab": {
          "base_uri": "https://localhost:8080/",
          "height": 17
        },
        "id": "1TeMdrMeszOW",
        "outputId": "8230df77-46fe-42ad-c034-4b2c6613c6eb"
      },
      "source": [
        "preds_r,targs_r = learn_r.get_preds()"
      ],
      "execution_count": null,
      "outputs": [
        {
          "output_type": "display_data",
          "data": {
            "text/html": [
              ""
            ],
            "text/plain": [
              "<IPython.core.display.HTML object>"
            ]
          },
          "metadata": {
            "tags": []
          }
        }
      ]
    },
    {
      "cell_type": "code",
      "metadata": {
        "colab": {
          "base_uri": "https://localhost:8080/",
          "height": 265
        },
        "id": "GeAwEjWts70J",
        "outputId": "d93dccfd-fed7-49e9-90f0-856252ac9c47"
      },
      "source": [
        "xs_r = torch.linspace(0.2,0.99,50)\n",
        "accs_r = [accuracy_multi(preds_r, targs_r, thresh=i, sigmoid=False) for i in xs_r]\n",
        "plt.plot(xs_r,accs_r);"
      ],
      "execution_count": null,
      "outputs": [
        {
          "output_type": "display_data",
          "data": {
            "image/png": "[encoded data removed]",
            "text/plain": [
              "<Figure size 432x288 with 1 Axes>"
            ]
          },
          "metadata": {
            "tags": [],
            "needs_background": "light"
          }
        }
      ]
    },
    {
      "cell_type": "code",
      "metadata": {
        "colab": {
          "base_uri": "https://localhost:8080/",
          "height": 233
        },
        "id": "QWr8X_NK45Br",
        "outputId": "9b1500d4-975c-4d0e-8db6-e32e73222d7e"
      },
      "source": [
        "img = PILImage.create('/content/gdrive/MyDrive/data/planet/test-jpg/test_237.jpg')\n",
        "display(img.to_thumb(128,128))\n",
        "learn.predict(img)"
      ],
      "execution_count": null,
      "outputs": [
        {
          "output_type": "display_data",
          "data": {
            "image/png": "[encoded data removed]",
            "text/plain": [
              "<PIL.Image.Image image mode=RGB size=128x128 at 0x7FD83B3FB550>"
            ]
          },
          "metadata": {
            "tags": []
          }
        },
        {
          "output_type": "display_data",
          "data": {
            "text/html": [
              ""
            ],
            "text/plain": [
              "<IPython.core.display.HTML object>"
            ]
          },
          "metadata": {
            "tags": []
          }
        },
        {
          "output_type": "execute_result",
          "data": {
            "text/plain": [
              "((#3) ['cultivation','partly_cloudy','primary'],\n",
              " tensor([False, False, False, False, False, False, False, False,  True, False, False,  True,  True, False, False, False, False]),\n",
              " tensor([4.3913e-02, 9.2525e-02, 8.0969e-02, 9.5631e-02, 8.5133e-02, 3.3228e-04, 2.6724e-01, 2.7310e-01, 6.2891e-01, 1.6544e-01, 1.7791e-01, 9.9710e-01, 8.2400e-01, 4.1025e-03, 3.6797e-01, 1.0486e-01,\n",
              "         1.2738e-01]))"
            ]
          },
          "metadata": {
            "tags": []
          },
          "execution_count": 95
        }
      ]
    },
    {
      "cell_type": "code",
      "metadata": {
        "colab": {
          "base_uri": "https://localhost:8080/"
        },
        "id": "k8Fx1t2r7Dlm",
        "outputId": "484986c9-df3e-49b6-cb4b-c344135da596"
      },
      "source": [
        "data[2][8]"
      ],
      "execution_count": null,
      "outputs": [
        {
          "output_type": "execute_result",
          "data": {
            "text/plain": [
              "tensor(0.6289)"
            ]
          },
          "metadata": {
            "tags": []
          },
          "execution_count": 98
        }
      ]
    },
    {
      "cell_type": "code",
      "metadata": {
        "colab": {
          "base_uri": "https://localhost:8080/",
          "height": 216
        },
        "id": "AC7GfVQB7XqL",
        "outputId": "04896e57-dc23-45b0-fed4-9fa52cd0d57a"
      },
      "source": [
        "img = PILImage.create('/content/gdrive/MyDrive/data/planet/test-jpg/test_999.jpg')\n",
        "display(img.to_thumb(128,128))\n",
        "learn.predict(img)"
      ],
      "execution_count": null,
      "outputs": [
        {
          "output_type": "display_data",
          "data": {
            "image/png": "[encoded data removed]",
            "text/plain": [
              "<PIL.Image.Image image mode=RGB size=128x128 at 0x7FD83F3F9208>"
            ]
          },
          "metadata": {
            "tags": []
          }
        },
        {
          "output_type": "display_data",
          "data": {
            "text/html": [
              ""
            ],
            "text/plain": [
              "<IPython.core.display.HTML object>"
            ]
          },
          "metadata": {
            "tags": []
          }
        },
        {
          "output_type": "execute_result",
          "data": {
            "text/plain": [
              "((#2) ['clear','primary'],\n",
              " tensor([False, False, False, False, False,  True, False, False, False, False, False, False,  True, False, False, False, False]),\n",
              " tensor([0.0417, 0.2354, 0.1907, 0.2366, 0.1751, 0.9918, 0.1740, 0.2355, 0.1708, 0.1554, 0.2391, 0.0470, 0.8896, 0.0832, 0.2421, 0.2552, 0.1347]))"
            ]
          },
          "metadata": {
            "tags": []
          },
          "execution_count": 99
        }
      ]
    },
    {
      "cell_type": "code",
      "metadata": {
        "colab": {
          "base_uri": "https://localhost:8080/",
          "height": 216
        },
        "id": "sAFIJlW17e9a",
        "outputId": "b0bdc03d-905a-40be-883c-2ac8c55836d4"
      },
      "source": [
        "img = PILImage.create('/content/gdrive/MyDrive/data/planet/test-jpg/test_42.jpg')\n",
        "display(img.to_thumb(128,128))\n",
        "learn.predict(img)"
      ],
      "execution_count": null,
      "outputs": [
        {
          "output_type": "display_data",
          "data": {
            "image/png": "[encoded data removed]",
            "text/plain": [
              "<PIL.Image.Image image mode=RGB size=128x128 at 0x7FD83F4D7358>"
            ]
          },
          "metadata": {
            "tags": []
          }
        },
        {
          "output_type": "display_data",
          "data": {
            "text/html": [
              ""
            ],
            "text/plain": [
              "<IPython.core.display.HTML object>"
            ]
          },
          "metadata": {
            "tags": []
          }
        },
        {
          "output_type": "execute_result",
          "data": {
            "text/plain": [
              "((#2) ['clear','primary'],\n",
              " tensor([False, False, False, False, False,  True, False, False, False, False, False, False,  True, False, False, False, False]),\n",
              " tensor([0.0541, 0.2110, 0.1808, 0.2012, 0.2537, 0.9919, 0.0847, 0.1586, 0.2093, 0.1146, 0.1648, 0.0399, 0.9295, 0.0530, 0.2363, 0.1446, 0.0683]))"
            ]
          },
          "metadata": {
            "tags": []
          },
          "execution_count": 105
        }
      ]
    },
    {
      "cell_type": "markdown",
      "metadata": {
        "id": "VwNfNrk06pV7"
      },
      "source": [
        "`test_7.jpg` try again and find a way to up the threshold? activation? (the thing that makes it kick in only higher than at 0.5x (because those seemed wrong)"
      ]
    }
  ]
}